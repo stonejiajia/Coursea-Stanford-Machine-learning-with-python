{
 "cells": [
  {
   "cell_type": "code",
   "execution_count": 1,
   "metadata": {
    "collapsed": true
   },
   "outputs": [],
   "source": [
    "import scipy.io as sio"
   ]
  },
  {
   "cell_type": "code",
   "execution_count": 2,
   "metadata": {
    "collapsed": true
   },
   "outputs": [],
   "source": [
    "data1 = sio.loadmat('ex7data1.mat')"
   ]
  },
  {
   "cell_type": "code",
   "execution_count": 8,
   "metadata": {
    "collapsed": false
   },
   "outputs": [
    {
     "data": {
      "text/plain": [
       "{'X': array([[ 3.38156267,  3.38911268],\n",
       "        [ 4.52787538,  5.8541781 ],\n",
       "        [ 2.65568187,  4.41199472],\n",
       "        [ 2.76523467,  3.71541365],\n",
       "        [ 2.84656011,  4.17550645],\n",
       "        [ 3.89067196,  6.48838087],\n",
       "        [ 3.47580524,  3.63284876],\n",
       "        [ 5.91129845,  6.68076853],\n",
       "        [ 3.92889397,  5.09844661],\n",
       "        [ 4.56183537,  5.62329929],\n",
       "        [ 4.57407171,  5.39765069],\n",
       "        [ 4.37173356,  5.46116549],\n",
       "        [ 4.19169388,  4.95469359],\n",
       "        [ 5.24408518,  4.66148767],\n",
       "        [ 2.8358402 ,  3.76801716],\n",
       "        [ 5.63526969,  6.31211438],\n",
       "        [ 4.68632968,  5.6652411 ],\n",
       "        [ 2.85051337,  4.62645627],\n",
       "        [ 5.1101573 ,  7.36319662],\n",
       "        [ 5.18256377,  4.64650909],\n",
       "        [ 5.70732809,  6.68103995],\n",
       "        [ 3.57968458,  4.80278074],\n",
       "        [ 5.63937773,  6.12043594],\n",
       "        [ 4.26346851,  4.68942896],\n",
       "        [ 2.53651693,  3.88449078],\n",
       "        [ 3.22382902,  4.94255585],\n",
       "        [ 4.92948801,  5.95501971],\n",
       "        [ 5.79295774,  5.10839305],\n",
       "        [ 2.81684824,  4.81895769],\n",
       "        [ 3.88882414,  5.10036564],\n",
       "        [ 3.34323419,  5.89301345],\n",
       "        [ 5.87973414,  5.52141664],\n",
       "        [ 3.10391912,  3.85710242],\n",
       "        [ 5.33150572,  4.68074235],\n",
       "        [ 3.37542687,  4.56537852],\n",
       "        [ 4.77667888,  6.25435039],\n",
       "        [ 2.6757463 ,  3.73096988],\n",
       "        [ 5.50027665,  5.67948113],\n",
       "        [ 1.79709714,  3.24753885],\n",
       "        [ 4.3225147 ,  5.11110472],\n",
       "        [ 4.42100445,  6.02563978],\n",
       "        [ 3.17929886,  4.43686032],\n",
       "        [ 3.03354125,  3.97879278],\n",
       "        [ 4.6093482 ,  5.879792  ],\n",
       "        [ 2.96378859,  3.30024835],\n",
       "        [ 3.97176248,  5.40773735],\n",
       "        [ 1.18023321,  2.87869409],\n",
       "        [ 1.91895045,  5.07107848],\n",
       "        [ 3.95524687,  4.5053271 ],\n",
       "        [ 5.11795499,  6.08507386]]),\n",
       " '__globals__': [],\n",
       " '__header__': 'MATLAB 5.0 MAT-file, Platform: PCWIN64, Created on: Mon Nov 14 22:41:44 2011',\n",
       " '__version__': '1.0'}"
      ]
     },
     "execution_count": 8,
     "metadata": {},
     "output_type": "execute_result"
    }
   ],
   "source": [
    "data1"
   ]
  },
  {
   "cell_type": "code",
   "execution_count": 21,
   "metadata": {
    "collapsed": false
   },
   "outputs": [
    {
     "data": {
      "text/plain": [
       "array([ 3.38156267,  4.52787538,  2.65568187,  2.76523467,  2.84656011,\n",
       "        3.89067196,  3.47580524,  5.91129845,  3.92889397,  4.56183537,\n",
       "        4.57407171,  4.37173356,  4.19169388,  5.24408518,  2.8358402 ,\n",
       "        5.63526969,  4.68632968,  2.85051337,  5.1101573 ,  5.18256377,\n",
       "        5.70732809,  3.57968458,  5.63937773,  4.26346851,  2.53651693,\n",
       "        3.22382902,  4.92948801,  5.79295774,  2.81684824,  3.88882414,\n",
       "        3.34323419,  5.87973414,  3.10391912,  5.33150572,  3.37542687,\n",
       "        4.77667888,  2.6757463 ,  5.50027665,  1.79709714,  4.3225147 ,\n",
       "        4.42100445,  3.17929886,  3.03354125,  4.6093482 ,  2.96378859,\n",
       "        3.97176248,  1.18023321,  1.91895045,  3.95524687,  5.11795499])"
      ]
     },
     "execution_count": 21,
     "metadata": {},
     "output_type": "execute_result"
    }
   ],
   "source": [
    "data1['X'][:,0]"
   ]
  },
  {
   "cell_type": "code",
   "execution_count": 22,
   "metadata": {
    "collapsed": false
   },
   "outputs": [
    {
     "data": {
      "text/plain": [
       "array([ 3.38911268,  5.8541781 ,  4.41199472,  3.71541365,  4.17550645,\n",
       "        6.48838087,  3.63284876,  6.68076853,  5.09844661,  5.62329929,\n",
       "        5.39765069,  5.46116549,  4.95469359,  4.66148767,  3.76801716,\n",
       "        6.31211438,  5.6652411 ,  4.62645627,  7.36319662,  4.64650909,\n",
       "        6.68103995,  4.80278074,  6.12043594,  4.68942896,  3.88449078,\n",
       "        4.94255585,  5.95501971,  5.10839305,  4.81895769,  5.10036564,\n",
       "        5.89301345,  5.52141664,  3.85710242,  4.68074235,  4.56537852,\n",
       "        6.25435039,  3.73096988,  5.67948113,  3.24753885,  5.11110472,\n",
       "        6.02563978,  4.43686032,  3.97879278,  5.879792  ,  3.30024835,\n",
       "        5.40773735,  2.87869409,  5.07107848,  4.5053271 ,  6.08507386])"
      ]
     },
     "execution_count": 22,
     "metadata": {},
     "output_type": "execute_result"
    }
   ],
   "source": [
    "data1['X'][:,1]"
   ]
  },
  {
   "cell_type": "code",
   "execution_count": 24,
   "metadata": {
    "collapsed": false
   },
   "outputs": [
    {
     "name": "stderr",
     "output_type": "stream",
     "text": [
      "/Users/stone20091652/anaconda/lib/python2.7/site-packages/matplotlib/__init__.py:872: UserWarning: axes.color_cycle is deprecated and replaced with axes.prop_cycle; please use the latter.\n",
      "  warnings.warn(self.msg_depr % (key, alt_key))\n"
     ]
    }
   ],
   "source": [
    "import matplotlib.pyplot as plt\n",
    "import seaborn as sns\n",
    "%matplotlib inline"
   ]
  },
  {
   "cell_type": "code",
   "execution_count": 25,
   "metadata": {
    "collapsed": false
   },
   "outputs": [
    {
     "data": {
      "text/plain": [
       "<matplotlib.collections.PathCollection at 0x10e488610>"
      ]
     },
     "execution_count": 25,
     "metadata": {},
     "output_type": "execute_result"
    },
    {
     "data": {
      "image/png": "[encoded data removed]",
      "text/plain": [
       "<matplotlib.figure.Figure at 0x10e294150>"
      ]
     },
     "metadata": {},
     "output_type": "display_data"
    }
   ],
   "source": [
    "plt.scatter(data1['X'][:,0], data1['X'][:,1])"
   ]
  },
  {
   "cell_type": "code",
   "execution_count": null,
   "metadata": {
    "collapsed": true
   },
   "outputs": [],
   "source": []
  }
 ],
 "metadata": {
  "kernelspec": {
   "display_name": "Python 2",
   "language": "python",
   "name": "python2"
  },
  "language_info": {
   "codemirror_mode": {
    "name": "ipython",
    "version": 2
   },
   "file_extension": ".py",
   "mimetype": "text/x-python",
   "name": "python",
   "nbconvert_exporter": "python",
   "pygments_lexer": "ipython2",
   "version": "2.7.11"
  }
 },
 "nbformat": 4,
 "nbformat_minor": 0
}
