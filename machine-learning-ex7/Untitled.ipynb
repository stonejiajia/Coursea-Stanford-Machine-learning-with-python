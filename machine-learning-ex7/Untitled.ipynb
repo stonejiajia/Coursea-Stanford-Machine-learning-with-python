{
 "cells": [
  {
   "cell_type": "code",
   "execution_count": 3,
   "metadata": {
    "collapsed": false
   },
   "outputs": [
    {
     "data": {
      "image/png": "[encoded data removed]",
      "text/plain": [
       "<matplotlib.figure.Figure at 0x112a16350>"
      ]
     },
     "metadata": {},
     "output_type": "display_data"
    }
   ],
   "source": [
    "import matplotlib.pyplot as plt\n",
    "from mlxtend.data import three_blobs_data\n",
    "%matplotlib inline\n",
    "\n",
    "X, y = three_blobs_data()\n",
    "plt.scatter(X[:, 0], X[:, 1], c='white')\n",
    "plt.show()"
   ]
  },
  {
   "cell_type": "code",
   "execution_count": 14,
   "metadata": {
    "collapsed": false
   },
   "outputs": [
    {
     "ename": "IndentationError",
     "evalue": "expected an indented block (<ipython-input-14-a7fcc17166db>, line 70)",
     "output_type": "error",
     "traceback": [
      "\u001b[0;36m  File \u001b[0;32m\"<ipython-input-14-a7fcc17166db>\"\u001b[0;36m, line \u001b[0;32m70\u001b[0m\n\u001b[0;31m    plot.circle(x=sample[0], y=sample[1], size=15, color=\"red\")\u001b[0m\n\u001b[0m       ^\u001b[0m\n\u001b[0;31mIndentationError\u001b[0m\u001b[0;31m:\u001b[0m expected an indented block\n"
     ]
    }
   ],
   "source": [
    "\n",
    "from sklearn.cluster import KMeans\n",
    "\n",
    "import numpy as np\n",
    "\n",
    "import bokeh.plotting\n",
    "\n",
    "from bokeh.plotting import figure\n",
    "\n",
    "from sklearn import datasets\n",
    "\n",
    "bokeh.plotting.output_notebook() #initialize bokeh in ipython\n",
    "\n",
    "#the iris dataset is 150 samples, each with four features\n",
    "\n",
    "#we only want petal length and petal width\n",
    "\n",
    "iris = datasets.load_iris()\n",
    "\n",
    "petal_data = iris.data[:,2:]  #get only petal features, which are the third and fourth values in each sample\n",
    "\n",
    "#perform k-means analysis on iris data\n",
    "\n",
    "#there are only 3 iris flower groups: 'setosa', 'versicolor', 'virginica'\n",
    "\n",
    "kmean = KMeans(n_clusters=3) #n_clusters asks for only 3 groupings\n",
    "\n",
    "kmean.fit(petal_data)\n",
    "\n",
    "#initialize our bokeh plot\n",
    "\n",
    "plot = figure(width=500, height=500, title='Iris Petals', x_axis_label = \"Petal Length\", y_axis_label = \"Petal Width\")\n",
    "\n",
    "#plot centroid / cluster center / group mean for each group\n",
    "\n",
    "clus_xs = []\n",
    "\n",
    "clus_ys = []\n",
    "\n",
    "#we get the  cluster x / y values from the k-means algorithm\n",
    "\n",
    "for entry in kmean.cluster_centers_:\n",
    "\n",
    "    clus_xs.append(entry[0])\n",
    "\n",
    "    clus_ys.append(entry[1])\n",
    "\n",
    "#the cluster center is marked by a circle, with a cross in it\n",
    "\n",
    "plot.circle_cross(x=clus_xs, y=clus_ys, size=40, fill_alpha=0, line_width=2, color=['red', 'blue', 'purple'])\n",
    "\n",
    "plot.text(text = ['setosa', 'versicolor', 'virginica'], x=clus_xs, y=clus_ys, text_font_size='30pt')\n",
    "\n",
    "i = 0 #counter\n",
    "\n",
    "#begin plotting each petal length / width\n",
    "\n",
    "#We get our x / y values from the original plot data.\n",
    "\n",
    "#The k-means algorithm tells us which 'color' each plot point is,\n",
    "\n",
    "#and therefore which group it is a member of.\n",
    "\n",
    "for sample in petal_data:\n",
    "\n",
    "    #\"labels_\" tells us which cluster each plot point is a member of\n",
    "\n",
    "    if kmean.labels_[i] == 0:\n",
    "\n",
    "    plot.circle(x=sample[0], y=sample[1], size=15, color=\"red\")\n",
    "\n",
    "    if kmean.labels_[i] == 1:\n",
    "\n",
    "    plot.circle(x=sample[0], y=sample[1], size=15, color=\"blue\")\n",
    "\n",
    "    if kmean.labels_[i] == 2:\n",
    "\n",
    "    plot.circle(x=sample[0], y=sample[1], size=15, color=\"purple\")\n",
    "\n",
    "    i += 1\n",
    "\n",
    "bokeh.plotting.show(plot)\n",
    "\n",
    "#########end of code###########"
   ]
  },
  {
   "cell_type": "code",
   "execution_count": 11,
   "metadata": {
    "collapsed": false
   },
   "outputs": [
    {
     "ename": "ImportError",
     "evalue": "cannot import name pywrap_tensorflow",
     "output_type": "error",
     "traceback": [
      "\u001b[0;31m---------------------------------------------------------------------------\u001b[0m",
      "\u001b[0;31mImportError\u001b[0m                               Traceback (most recent call last)",
      "\u001b[0;32m<ipython-input-11-41389fad42b5>\u001b[0m in \u001b[0;36m<module>\u001b[0;34m()\u001b[0m\n\u001b[0;32m----> 1\u001b[0;31m \u001b[0;32mimport\u001b[0m \u001b[0mtensorflow\u001b[0m \u001b[0;32mas\u001b[0m \u001b[0mtf\u001b[0m\u001b[0;34m\u001b[0m\u001b[0m\n\u001b[0m",
      "\u001b[0;32m/Users/stone20091652/anaconda/lib/python2.7/site-packages/tensorflow/__init__.py\u001b[0m in \u001b[0;36m<module>\u001b[0;34m()\u001b[0m\n\u001b[1;32m     21\u001b[0m \u001b[0;32mfrom\u001b[0m \u001b[0m__future__\u001b[0m \u001b[0;32mimport\u001b[0m \u001b[0mprint_function\u001b[0m\u001b[0;34m\u001b[0m\u001b[0m\n\u001b[1;32m     22\u001b[0m \u001b[0;34m\u001b[0m\u001b[0m\n\u001b[0;32m---> 23\u001b[0;31m \u001b[0;32mfrom\u001b[0m \u001b[0mtensorflow\u001b[0m\u001b[0;34m.\u001b[0m\u001b[0mpython\u001b[0m \u001b[0;32mimport\u001b[0m \u001b[0;34m*\u001b[0m\u001b[0;34m\u001b[0m\u001b[0m\n\u001b[0m",
      "\u001b[0;32m/Users/stone20091652/anaconda/lib/python2.7/site-packages/tensorflow/python/__init__.py\u001b[0m in \u001b[0;36m<module>\u001b[0;34m()\u001b[0m\n\u001b[1;32m     43\u001b[0m \u001b[0m_default_dlopen_flags\u001b[0m \u001b[0;34m=\u001b[0m \u001b[0msys\u001b[0m\u001b[0;34m.\u001b[0m\u001b[0mgetdlopenflags\u001b[0m\u001b[0;34m(\u001b[0m\u001b[0;34m)\u001b[0m\u001b[0;34m\u001b[0m\u001b[0m\n\u001b[1;32m     44\u001b[0m \u001b[0msys\u001b[0m\u001b[0;34m.\u001b[0m\u001b[0msetdlopenflags\u001b[0m\u001b[0;34m(\u001b[0m\u001b[0m_default_dlopen_flags\u001b[0m \u001b[0;34m|\u001b[0m \u001b[0mctypes\u001b[0m\u001b[0;34m.\u001b[0m\u001b[0mRTLD_GLOBAL\u001b[0m\u001b[0;34m)\u001b[0m\u001b[0;34m\u001b[0m\u001b[0m\n\u001b[0;32m---> 45\u001b[0;31m \u001b[0;32mfrom\u001b[0m \u001b[0mtensorflow\u001b[0m\u001b[0;34m.\u001b[0m\u001b[0mpython\u001b[0m \u001b[0;32mimport\u001b[0m \u001b[0mpywrap_tensorflow\u001b[0m\u001b[0;34m\u001b[0m\u001b[0m\n\u001b[0m\u001b[1;32m     46\u001b[0m \u001b[0msys\u001b[0m\u001b[0;34m.\u001b[0m\u001b[0msetdlopenflags\u001b[0m\u001b[0;34m(\u001b[0m\u001b[0m_default_dlopen_flags\u001b[0m\u001b[0;34m)\u001b[0m\u001b[0;34m\u001b[0m\u001b[0m\n\u001b[1;32m     47\u001b[0m \u001b[0;34m\u001b[0m\u001b[0m\n",
      "\u001b[0;31mImportError\u001b[0m: cannot import name pywrap_tensorflow"
     ]
    }
   ],
   "source": [
    "import tensorflow as tf"
   ]
  },
  {
   "cell_type": "code",
   "execution_count": null,
   "metadata": {
    "collapsed": true
   },
   "outputs": [],
   "source": []
  }
 ],
 "metadata": {
  "kernelspec": {
   "display_name": "Python 2",
   "language": "python",
   "name": "python2"
  },
  "language_info": {
   "codemirror_mode": {
    "name": "ipython",
    "version": 2
   },
   "file_extension": ".py",
   "mimetype": "text/x-python",
   "name": "python",
   "nbconvert_exporter": "python",
   "pygments_lexer": "ipython2",
   "version": "2.7.11"
  }
 },
 "nbformat": 4,
 "nbformat_minor": 0
}
